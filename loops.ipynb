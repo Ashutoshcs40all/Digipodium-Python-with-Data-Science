{
 "cells": [
  {
   "cell_type": "code",
   "execution_count": 11,
   "source": [
    "word = \"kMC LU University\""
   ],
   "outputs": [],
   "metadata": {}
  },
  {
   "cell_type": "code",
   "execution_count": 12,
   "source": [
    "for i in word:\r\n",
    "    print(i, end=\"\")"
   ],
   "outputs": [
    {
     "output_type": "stream",
     "name": "stdout",
     "text": [
      "kMC LU University"
     ]
    }
   ],
   "metadata": {}
  },
  {
   "cell_type": "code",
   "execution_count": 6,
   "source": [
    "len(word)"
   ],
   "outputs": [
    {
     "output_type": "execute_result",
     "data": {
      "text/plain": [
       "14"
      ]
     },
     "metadata": {},
     "execution_count": 6
    }
   ],
   "metadata": {}
  },
  {
   "cell_type": "code",
   "execution_count": 1,
   "source": [
    "for i in range(11): \r\n",
    "    print(i)"
   ],
   "outputs": [
    {
     "output_type": "stream",
     "name": "stdout",
     "text": [
      "0\n",
      "1\n",
      "2\n",
      "3\n",
      "4\n",
      "5\n",
      "6\n",
      "7\n",
      "8\n",
      "9\n",
      "10\n"
     ]
    }
   ],
   "metadata": {}
  },
  {
   "cell_type": "code",
   "execution_count": 14,
   "source": [
    "for i in range( 1,10):\r\n",
    "    print(i)"
   ],
   "outputs": [
    {
     "output_type": "stream",
     "name": "stdout",
     "text": [
      "1\n",
      "2\n",
      "3\n",
      "4\n",
      "5\n",
      "6\n",
      "7\n",
      "8\n",
      "9\n"
     ]
    }
   ],
   "metadata": {}
  },
  {
   "cell_type": "code",
   "execution_count": 16,
   "source": [
    "for i in range(1, 30, 2):\r\n",
    "    print(i)"
   ],
   "outputs": [
    {
     "output_type": "stream",
     "name": "stdout",
     "text": [
      "1\n",
      "3\n",
      "5\n",
      "7\n",
      "9\n",
      "11\n",
      "13\n",
      "15\n",
      "17\n",
      "19\n",
      "21\n",
      "23\n",
      "25\n",
      "27\n",
      "29\n"
     ]
    }
   ],
   "metadata": {}
  },
  {
   "cell_type": "code",
   "execution_count": 19,
   "source": [
    "for i in range(30, 1 , -3):\r\n",
    "    print(i)"
   ],
   "outputs": [
    {
     "output_type": "stream",
     "name": "stdout",
     "text": [
      "30\n",
      "27\n",
      "24\n",
      "21\n",
      "18\n",
      "15\n",
      "12\n",
      "9\n",
      "6\n",
      "3\n"
     ]
    }
   ],
   "metadata": {}
  },
  {
   "cell_type": "code",
   "execution_count": 21,
   "source": [
    "for i in range(1, 10):\r\n",
    "    print(i * '#')"
   ],
   "outputs": [
    {
     "output_type": "stream",
     "name": "stdout",
     "text": [
      "#\n",
      "##\n",
      "###\n",
      "####\n",
      "#####\n",
      "######\n",
      "#######\n",
      "########\n",
      "#########\n"
     ]
    }
   ],
   "metadata": {}
  },
  {
   "cell_type": "code",
   "execution_count": 24,
   "source": [
    "for i in range(1, 10, 2):\r\n",
    "    print((i * '#'). center(10))"
   ],
   "outputs": [
    {
     "output_type": "stream",
     "name": "stdout",
     "text": [
      "    #     \n",
      "   ###    \n",
      "  #####   \n",
      " #######  \n",
      "######### \n"
     ]
    }
   ],
   "metadata": {}
  },
  {
   "cell_type": "code",
   "execution_count": 25,
   "source": [
    "for i in range(1, 20, 2):\r\n",
    "    print((i * '&'). center(40))"
   ],
   "outputs": [
    {
     "output_type": "stream",
     "name": "stdout",
     "text": [
      "                   &                    \n",
      "                  &&&                   \n",
      "                 &&&&&                  \n",
      "                &&&&&&&                 \n",
      "               &&&&&&&&&                \n",
      "              &&&&&&&&&&&               \n",
      "             &&&&&&&&&&&&&              \n",
      "            &&&&&&&&&&&&&&&             \n",
      "           &&&&&&&&&&&&&&&&&            \n",
      "          &&&&&&&&&&&&&&&&&&&           \n"
     ]
    }
   ],
   "metadata": {}
  },
  {
   "cell_type": "code",
   "execution_count": 27,
   "source": [
    "\r\n",
    "    print((i * '#'). rjust(10))\r\n"
   ],
   "outputs": [
    {
     "output_type": "stream",
     "name": "stdout",
     "text": [
      "         #\n",
      "       ###\n",
      "     #####\n",
      "   #######\n",
      " #########\n"
     ]
    }
   ],
   "metadata": {}
  },
  {
   "cell_type": "code",
   "execution_count": 9,
   "source": [
    "#3. WAP TO print all PRIME number b/w 100-500\r\n",
    "\r\n",
    "minimum  = int(input(\"Enter the minimum value: \"))\r\n",
    "maximum  = int(input(\"enter the maximum value: \"))\r\n",
    "\r\n",
    "for number in range(minimum, maximum+1):\r\n",
    "    if number>1:\r\n",
    "        for i in range(2, number):\r\n",
    "            if(number%i)==0:\r\n",
    "                break\r\n",
    "        else:\r\n",
    "            print(number)    "
   ],
   "outputs": [
    {
     "output_type": "stream",
     "name": "stdout",
     "text": [
      "101\n",
      "103\n",
      "107\n",
      "109\n",
      "113\n",
      "127\n",
      "131\n",
      "137\n",
      "139\n",
      "149\n",
      "151\n",
      "157\n",
      "163\n",
      "167\n",
      "173\n",
      "179\n",
      "181\n",
      "191\n",
      "193\n",
      "197\n",
      "199\n",
      "211\n",
      "223\n",
      "227\n",
      "229\n",
      "233\n",
      "239\n",
      "241\n",
      "251\n",
      "257\n",
      "263\n",
      "269\n",
      "271\n",
      "277\n",
      "281\n",
      "283\n",
      "293\n",
      "307\n",
      "311\n",
      "313\n",
      "317\n",
      "331\n",
      "337\n",
      "347\n",
      "349\n",
      "353\n",
      "359\n",
      "367\n",
      "373\n",
      "379\n",
      "383\n",
      "389\n",
      "397\n",
      "401\n",
      "409\n",
      "419\n",
      "421\n",
      "431\n",
      "433\n",
      "439\n",
      "443\n",
      "449\n",
      "457\n",
      "461\n",
      "463\n",
      "467\n",
      "479\n",
      "487\n",
      "491\n",
      "499\n"
     ]
    }
   ],
   "metadata": {}
  },
  {
   "cell_type": "code",
   "execution_count": 4,
   "source": [
    "#2. WAP TO FIND ALL VOWELS IN GIVEN STRING.\r\n",
    "\r\n",
    "string=input(\"enter the string: \")\r\n",
    "vowels = 0\r\n",
    "for i in string:\r\n",
    "    if(i=='a' or i=='e' or i=='i' or i=='o' or i=='u' or i=='A' or i=='E' or i=='I' or i=='O' or i=='U'):\r\n",
    "        vowels = vowels+1\r\n",
    "print(\"STRING: \", string)          \r\n",
    "print(\"NUMBER OF VOWELS ARE: \") \r\n",
    "     \r\n",
    "print(vowels)"
   ],
   "outputs": [
    {
     "output_type": "stream",
     "name": "stdout",
     "text": [
      "STRING:  VIKAS MAURYA\n",
      "NUMBER OF VOWELS ARE: \n",
      "5\n"
     ]
    }
   ],
   "metadata": {}
  },
  {
   "cell_type": "code",
   "execution_count": 4,
   "source": [
    "a=10\r\n",
    "while a<=20:\r\n",
    "    print(a)\r\n",
    "    a+=2"
   ],
   "outputs": [
    {
     "output_type": "stream",
     "name": "stdout",
     "text": [
      "10\n",
      "12\n",
      "14\n",
      "16\n",
      "18\n",
      "20\n"
     ]
    }
   ],
   "metadata": {}
  },
  {
   "cell_type": "code",
   "execution_count": 7,
   "source": [
    "pasword = \"abcdefg\"\r\n",
    "\r\n",
    "while True:\r\n",
    "    p = input(\"enter the password\")\r\n",
    "    if p== pasword:\r\n",
    "        print(\"welcome sir \")\r\n",
    "        break\r\n",
    "    else:\r\n",
    "        print(\"wrong password, try again\")\r\n",
    "        \r\n",
    "\r\n",
    "\r\n",
    "\r\n",
    "    \r\n"
   ],
   "outputs": [
    {
     "output_type": "stream",
     "name": "stdout",
     "text": [
      "wrong password, try again\n"
     ]
    }
   ],
   "metadata": {}
  },
  {
   "cell_type": "code",
   "execution_count": null,
   "source": [],
   "outputs": [],
   "metadata": {}
  },
  {
   "cell_type": "code",
   "execution_count": 2,
   "source": [
    "#3. WAP TO CHECK IF A NUMBER IS PRIME \r\n",
    "\r\n",
    "Num = int(input(\"ENTER THE NUMBER: \"))\r\n",
    "if Num > 1:\r\n",
    "    for i in range(2, Num):\r\n",
    "        if(Num % i) == 0:\r\n",
    "            print(Num, \"it is not prime number\")\r\n",
    "            break\r\n",
    "    else:\r\n",
    "        print(Num, \" it is prime number\")    \r\n",
    "        "
   ],
   "outputs": [
    {
     "output_type": "stream",
     "name": "stdout",
     "text": [
      "67  it is prime number\n"
     ]
    }
   ],
   "metadata": {}
  },
  {
   "cell_type": "code",
   "execution_count": null,
   "source": [
    "#wap to print diamond partten\r\n",
    "for i in range(1,20,2):\r\n",
    "    print((i * \"$\").center(20))\r\n",
    "for(i in range(13, 0, -2)):\r\n",
    "    print    "
   ],
   "outputs": [],
   "metadata": {}
  }
 ],
 "metadata": {
  "orig_nbformat": 4,
  "language_info": {
   "name": "python",
   "version": "3.9.7",
   "mimetype": "text/x-python",
   "codemirror_mode": {
    "name": "ipython",
    "version": 3
   },
   "pygments_lexer": "ipython3",
   "nbconvert_exporter": "python",
   "file_extension": ".py"
  },
  "kernelspec": {
   "name": "python3",
   "display_name": "Python 3.9.7 64-bit"
  },
  "interpreter": {
   "hash": "2f5443409d8516ad23e5d84b56ade54ed344ea6b8b8608f814553bfe6437af1c"
  }
 },
 "nbformat": 4,
 "nbformat_minor": 2
}